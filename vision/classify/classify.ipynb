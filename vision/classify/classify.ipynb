{
 "cells": [
  {
   "cell_type": "code",
   "execution_count": 1,
   "metadata": {
    "collapsed": true
   },
   "outputs": [],
   "source": [
    "import os\n",
    "import tensorflow as tf\n",
    "from PIL import Image\n",
    "import numpy as np\n",
    "import pandas as pd"
   ]
  },
  {
   "cell_type": "code",
   "execution_count": 2,
   "metadata": {
    "collapsed": true
   },
   "outputs": [],
   "source": [
    "# 生成字符串型的属性。\n",
    "def _bytes_feature(value):\n",
    "    return tf.train.Feature(bytes_list=tf.train.BytesList(value=[value]))\n",
    "\n",
    "# 生成整数型的属性。\n",
    "def _int64_feature(value):\n",
    "    return tf.train.Feature(int64_list=tf.train.Int64List(value=[value]))\n",
    "\n",
    "# 生成实数型的属性。\n",
    "def _float_feature(value):\n",
    "    return tf.train.Feature(float_list=tf.train.FloatList(value=[value]))"
   ]
  },
  {
   "cell_type": "code",
   "execution_count": null,
   "metadata": {
    "collapsed": true
   },
   "outputs": [],
   "source": [
    "def to_one_hot(classes, label):\n",
    "    num_classes = len(classes)\n",
    "    # print(num_classes)\n",
    "    # print(\"label-----------\",label)\n",
    "    label_arr = np.zeros((num_classes))\n",
    "    # print(\"label_arr---------\",label_arr)\n",
    "    label_arr[label] += 1.0\n",
    "    # print(\"after change label_arr\",label_arr)\n",
    "    return label_arr"
   ]
  },
  {
   "cell_type": "code",
   "execution_count": 3,
   "metadata": {
    "collapsed": true
   },
   "outputs": [],
   "source": [
    "# 原始图片的存储位置\n",
    "orig_picture = os.getcwd()+'\\\\image\\\\test'\n",
    "# 生成图片的存储位置\n",
    "gen_picture = os.getcwd()+'\\\\image'\n",
    "# 需要的识别类型\n",
    "classes = {'0', '1', '2', '3', '4', '5', '6', '7', '8', '9', '10'}\n",
    "\n",
    "# 制作TFRecords数据\n",
    "def create_record():\n",
    "    writer = tf.python_io.TFRecordWriter(\"test.tfrecords\")\n",
    "    for index, name in enumerate(classes):\n",
    "        class_path = orig_picture + \"/\" + name + \"/\"\n",
    "        print(class_path)\n",
    "        for img_name in os.listdir(class_path):\n",
    "            img_path = class_path + img_name\n",
    "            img = Image.open(img_path)\n",
    "            img = img.resize((40, 40))  # 设置需要转换的图片大小\n",
    "            ###图片灰度化######################################################################\n",
    "            img=img.convert(\"L\")\n",
    "            ##############################################################################################\n",
    "            img_raw = img.tobytes()  # 将图片转化为原生bytes\n",
    "            example = tf.train.Example(\n",
    "                features=tf.train.Features(feature={\n",
    "                    \"label\":   tf.train.Feature(int64_list=tf.train.Int64List(value=[index])),\n",
    "                    'img_raw': tf.train.Feature(bytes_list=tf.train.BytesList(value=[img_raw]))\n",
    "                }))\n",
    "            writer.write(example.SerializeToString())\n",
    "    writer.close()"
   ]
  },
  {
   "cell_type": "code",
   "execution_count": 4,
   "metadata": {},
   "outputs": [
    {
     "name": "stdout",
     "output_type": "stream",
     "text": [
      "C:\\Users\\Administrator\\Desktop\\brobotmatch\\Python\\cchess-brobot\\vision\\classify\\image\\test/3/\n",
      "C:\\Users\\Administrator\\Desktop\\brobotmatch\\Python\\cchess-brobot\\vision\\classify\\image\\test/4/\n",
      "C:\\Users\\Administrator\\Desktop\\brobotmatch\\Python\\cchess-brobot\\vision\\classify\\image\\test/7/\n",
      "C:\\Users\\Administrator\\Desktop\\brobotmatch\\Python\\cchess-brobot\\vision\\classify\\image\\test/1/\n",
      "C:\\Users\\Administrator\\Desktop\\brobotmatch\\Python\\cchess-brobot\\vision\\classify\\image\\test/2/\n",
      "C:\\Users\\Administrator\\Desktop\\brobotmatch\\Python\\cchess-brobot\\vision\\classify\\image\\test/9/\n",
      "C:\\Users\\Administrator\\Desktop\\brobotmatch\\Python\\cchess-brobot\\vision\\classify\\image\\test/0/\n",
      "C:\\Users\\Administrator\\Desktop\\brobotmatch\\Python\\cchess-brobot\\vision\\classify\\image\\test/8/\n",
      "C:\\Users\\Administrator\\Desktop\\brobotmatch\\Python\\cchess-brobot\\vision\\classify\\image\\test/10/\n",
      "C:\\Users\\Administrator\\Desktop\\brobotmatch\\Python\\cchess-brobot\\vision\\classify\\image\\test/6/\n",
      "C:\\Users\\Administrator\\Desktop\\brobotmatch\\Python\\cchess-brobot\\vision\\classify\\image\\test/5/\n"
     ]
    }
   ],
   "source": [
    "create_record()"
   ]
  },
  {
   "cell_type": "code",
   "execution_count": 5,
   "metadata": {
    "collapsed": true
   },
   "outputs": [],
   "source": [
    "def read_and_decode(filename):\n",
    "    # 创建文件队列,不限读取的数量    \n",
    "    filename_queue = tf.train.string_input_producer([filename])\n",
    "    # create a reader from file queue    \n",
    "    reader = tf.TFRecordReader()\n",
    "    # reader从文件队列中读入一个序列化的样本    \n",
    "    _, serialized_example = reader.read(filename_queue)\n",
    "    # get feature from serialized example    \n",
    "    # 解析符号化的样本    \n",
    "    features = tf.parse_single_example(\n",
    "        serialized_example,\n",
    "        features={\n",
    "            'label': tf.FixedLenFeature([], tf.int64),\n",
    "            'img_raw': tf.FixedLenFeature([], tf.string)\n",
    "        })\n",
    "    label = features['label']\n",
    "    label = tf.cast(label, tf.int32)\n",
    "    image = features['img_raw']\n",
    "    image = tf.decode_raw(image, tf.uint8)\n",
    "    image = tf.reshape(image, [40, 40])\n",
    "    image = tf.cast(image, tf.float32)\n",
    "    \n",
    "    return image, label"
   ]
  },
  {
   "cell_type": "code",
   "execution_count": 8,
   "metadata": {},
   "outputs": [
    {
     "name": "stdout",
     "output_type": "stream",
     "text": [
      "WARNING:tensorflow:From J:\\Anaconda3\\lib\\site-packages\\tensorflow\\python\\training\\input.py:187: QueueRunner.__init__ (from tensorflow.python.training.queue_runner_impl) is deprecated and will be removed in a future version.\n",
      "Instructions for updating:\n",
      "To construct input pipelines, use the `tf.data` module.\n",
      "WARNING:tensorflow:From J:\\Anaconda3\\lib\\site-packages\\tensorflow\\python\\training\\input.py:187: add_queue_runner (from tensorflow.python.training.queue_runner_impl) is deprecated and will be removed in a future version.\n",
      "Instructions for updating:\n",
      "To construct input pipelines, use the `tf.data` module.\n",
      "Tensor(\"Cast_2:0\", shape=(40, 40), dtype=float32) Tensor(\"Cast_1:0\", shape=(), dtype=int32)\n"
     ]
    }
   ],
   "source": [
    "train_image, train_label = read_and_decode('test.tfrecords')\n",
    "print(train_image, train_label)"
   ]
  },
  {
   "cell_type": "code",
   "execution_count": null,
   "metadata": {
    "collapsed": true
   },
   "outputs": [],
   "source": [
    "classes_l = len(classes) ##类别数为最大数加1\n",
    "label = tf.one_hot(train_label,classes_l)\n",
    "label = tf.cast(label, tf.int32)"
   ]
  },
  {
   "cell_type": "code",
   "execution_count": null,
   "metadata": {
    "collapsed": true
   },
   "outputs": [],
   "source": [
    "sess = tf.Session()\n",
    "tf.global_variables_initializer().run(session=sess)\n",
    "tf.train.start_queue_runners(sess=sess)\n",
    "# train_image, train_label = sess.run([train_image, train_label])\n",
    "for i in range(5):\n",
    "    print(train_image, train_label)\n",
    "    val, label_p = sess.run([train_image, label])\n",
    "    \n",
    "    print(val.shape, label_p)"
   ]
  },
  {
   "cell_type": "code",
   "execution_count": 6,
   "metadata": {},
   "outputs": [
    {
     "name": "stdout",
     "output_type": "stream",
     "text": [
      "WARNING:tensorflow:From <ipython-input-6-dd2e93b082ad>:41: softmax_cross_entropy_with_logits (from tensorflow.python.ops.nn_ops) is deprecated and will be removed in a future version.\n",
      "Instructions for updating:\n",
      "\n",
      "Future major versions of TensorFlow will allow gradients to flow\n",
      "into the labels input on backprop by default.\n",
      "\n",
      "See `tf.nn.softmax_cross_entropy_with_logits_v2`.\n",
      "\n"
     ]
    }
   ],
   "source": [
    "# #載入數據集\n",
    "# mnist = input_data.read_data_sets(\"MNIST_data\", one_hot = True) \n",
    "\n",
    "#每一個批次的大小\n",
    "batch_size = 20 \n",
    "\n",
    "#計算一共有多少批次\n",
    "# n_batch = mnist.train.num_examples // batch_size \n",
    "n_batch = 10\n",
    "\n",
    "#定義兩個placeholder，目的在於 train時候透過 feed 傳入 x_data 與 y_data\n",
    "x = tf.placeholder(tf.float32, [None, 40, 40])\n",
    "y = tf.placeholder(tf.int32, [None, 11 ]) \n",
    "keep_prob = tf.placeholder(tf.float32)\n",
    "\n",
    "#建立一個神經網路\n",
    "\n",
    "x1 = tf.reshape(x, [-1, 40 * 40 * 1])\n",
    "\n",
    "W1 = tf.Variable(tf.truncated_normal([1600, 4000], stddev=0.1))\n",
    "b1 = tf.Variable(tf.zeros([4000]) + 0.1)\n",
    "L1 = tf.nn.tanh(tf.matmul(x1, W1) + b1) #隱藏層的輸出\n",
    "L1_drop = tf.nn.dropout(L1, keep_prob)\n",
    "\n",
    "W2 = tf.Variable(tf.truncated_normal([4000, 2000], stddev=0.1))\n",
    "b2 = tf.Variable(tf.zeros([2000]) + 0.1)\n",
    "L2 = tf.nn.tanh(tf.matmul(L1_drop, W2) + b2) #隱藏層的輸出\n",
    "L2_drop = tf.nn.dropout(L2, keep_prob)\n",
    "\n",
    "W3 = tf.Variable(tf.truncated_normal([2000, 1000], stddev=0.1))\n",
    "b3 = tf.Variable(tf.zeros([1000]) + 0.1)\n",
    "L3 = tf.nn.tanh(tf.matmul(L2_drop, W3) + b3) #隱藏層的輸出\n",
    "L3_drop = tf.nn.dropout(L3, keep_prob)\n",
    "\n",
    "W4 = tf.Variable(tf.truncated_normal([1000, 11], stddev=0.1))\n",
    "b4 = tf.Variable(tf.zeros([11]) + 0.1)\n",
    "prediction = tf.nn.tanh(tf.matmul(L3_drop, W4) + b4)\n",
    "\n",
    "\n",
    "#代價函數 :\n",
    "loss = tf.reduce_mean(tf.nn.softmax_cross_entropy_with_logits(labels = y, logits = prediction))\n",
    "train_step = tf.train.GradientDescentOptimizer(0.3).minimize(loss)\n",
    "\n",
    "#初始化變數 operator\n",
    "init = tf.global_variables_initializer()\n",
    "\n",
    "#結果存在一個 boolean 的變數中\n",
    "correct_prediction = tf.equal(tf.argmax(y, 1), tf.argmax(prediction, 1)) #argmax 回傳一維張量中最大的值，所在的位置\n",
    "\n",
    "#求準確率\n",
    "accuracy = tf.reduce_mean(tf.cast(correct_prediction, tf.float32)) \n",
    "\n"
   ]
  },
  {
   "cell_type": "code",
   "execution_count": 9,
   "metadata": {},
   "outputs": [],
   "source": [
    "batch_size = 1000\n",
    "min_after_dequeue = 300\n",
    "capacity = min_after_dequeue + 3 * batch_size\n",
    "train_images, train_labels = tf.train.shuffle_batch([train_image, train_label],\n",
    "                                      batch_size=batch_size,\n",
    "                                      num_threads=4,\n",
    "                                      capacity=capacity,\n",
    "                                      min_after_dequeue=min_after_dequeue)\n",
    "\n",
    "test_images, test_labels  = tf.train.shuffle_batch([train_image, train_label],\n",
    "                                      batch_size=batch_size,\n",
    "                                      num_threads=4,\n",
    "                                      capacity=capacity,\n",
    "                                      min_after_dequeue=min_after_dequeue)"
   ]
  },
  {
   "cell_type": "code",
   "execution_count": 10,
   "metadata": {
    "collapsed": true
   },
   "outputs": [],
   "source": [
    "classes_l = 11\n",
    "train_labels_onehot = tf.cast(tf.one_hot(train_labels,classes_l,on_value=1,off_value=None,axis=1), tf.int32)\n",
    "test_labels_onehot  = tf.cast(tf.one_hot(test_labels,classes_l,on_value=1,off_value=None,axis=1) , tf.int32)"
   ]
  },
  {
   "cell_type": "code",
   "execution_count": 11,
   "metadata": {},
   "outputs": [
    {
     "name": "stdout",
     "output_type": "stream",
     "text": [
      "WARNING:tensorflow:From <ipython-input-11-bf39935d077e>:3: start_queue_runners (from tensorflow.python.training.queue_runner_impl) is deprecated and will be removed in a future version.\n",
      "Instructions for updating:\n",
      "To construct input pipelines, use the `tf.data` module.\n",
      "[array([0, 0, 0, 0, 0, 0, 0, 0, 0, 0, 0, 0, 0, 0, 0, 0, 0, 0, 0, 0, 0, 1,\n",
      "       0, 0, 0, 0, 0, 0, 0, 0, 0, 0, 0, 0, 0, 0, 0, 0, 0, 0, 0, 0, 0, 1,\n",
      "       0, 0, 0, 0, 0, 0, 0, 1, 0, 0, 0, 0, 0, 1, 0, 0, 0, 0, 0, 0, 0, 0,\n",
      "       0, 1, 1, 0, 0, 1, 0, 0, 0, 0, 0, 0, 0, 0, 1, 0, 0, 0, 0, 0, 0, 0,\n",
      "       0, 0, 1, 0, 0, 0, 0, 0, 0, 1, 0, 0, 0, 0, 0, 1, 1, 0, 0, 0, 0, 0,\n",
      "       0, 0, 0, 0, 0, 1, 0, 1, 0, 0, 0, 0, 0, 1, 1, 1, 1, 0, 0, 0, 1, 0,\n",
      "       1, 1, 0, 0, 1, 1, 1, 1, 0, 1, 0, 1, 0, 0, 1, 1, 1, 0, 0, 0, 0, 0,\n",
      "       1, 0, 0, 0, 1, 0, 0, 0, 1, 0, 0, 0, 0, 1, 1, 1, 1, 1, 0, 1, 1, 0,\n",
      "       0, 0, 1, 0, 0, 1, 1, 1, 1, 0, 1, 0, 0, 0, 0, 1, 0, 0, 1, 0, 0, 1,\n",
      "       0, 1, 1, 0, 0, 1, 1, 0, 0, 1, 0, 1, 1, 1, 0, 1, 1, 0, 1, 0, 1, 0,\n",
      "       0, 1, 1, 1, 1, 1, 0, 1, 1, 1, 0, 0, 0, 0, 1, 1, 0, 1, 0, 0, 1, 0,\n",
      "       0, 1, 0, 0, 0, 1, 1, 0, 0, 0, 0, 0, 0, 0, 1, 1, 1, 0, 1, 1, 0, 0,\n",
      "       0, 1, 0, 0, 0, 1, 0, 1, 0, 0, 1, 1, 1, 0, 1, 1, 1, 0, 1, 1, 1, 0,\n",
      "       0, 1, 1, 1, 0, 1, 1, 0, 1, 1, 1, 0, 1, 1, 0, 0, 0, 1, 0, 2, 0, 0,\n",
      "       1, 1, 1, 1, 1, 0, 1, 0, 1, 0, 1, 1, 0, 1, 2, 1, 1, 1, 1, 1, 0, 2,\n",
      "       0, 2, 0, 1, 1, 1, 1, 2, 2, 1, 1, 0, 1, 1, 1, 1, 1, 1, 2, 0, 2, 2,\n",
      "       1, 1, 1, 1, 1, 1, 1, 2, 0, 1, 0, 1, 0, 0, 0, 1, 1, 1, 1, 2, 2, 0,\n",
      "       1, 2, 0, 1, 1, 1, 0, 1, 0, 0, 0, 2, 1, 0, 2, 1, 2, 0, 1, 2, 2, 2,\n",
      "       1, 1, 2, 0, 1, 1, 0, 1, 0, 2, 2, 1, 1, 2, 1, 2, 2, 1, 0, 1, 2, 2,\n",
      "       2, 0, 2, 2, 2, 0, 1, 1, 1, 2, 1, 0, 1, 1, 0, 0, 1, 2, 1, 2, 0, 1,\n",
      "       2, 2, 0, 2, 0, 0, 2, 2, 2, 1, 1, 2, 0, 2, 1, 2, 2, 2, 0, 2, 1, 0,\n",
      "       1, 0, 0, 2, 0, 1, 0, 0, 2, 2, 1, 1, 1, 2, 2, 2, 2, 0, 2, 2, 2, 2,\n",
      "       2, 0, 2, 1, 1, 2, 1, 2, 1, 2, 2, 1, 1, 1, 0, 1, 0, 1, 1, 2, 1, 0,\n",
      "       2, 2, 2, 2, 2, 1, 0, 1, 2, 2, 2, 2, 2, 1, 2, 1, 2, 1, 2, 1, 2, 0,\n",
      "       0, 2, 1, 0, 2, 2, 1, 1, 1, 2, 1, 2, 1, 1, 2, 1, 2, 2, 0, 0, 2, 2,\n",
      "       0, 2, 2, 2, 2, 2, 2, 1, 2, 2, 2, 1, 1, 2, 0, 2, 1, 2, 0, 2, 2, 2,\n",
      "       0, 0, 2, 0, 0, 2, 2, 2, 1, 1, 1, 3, 0, 2, 3, 2, 2, 2, 3, 2, 0, 2,\n",
      "       2, 2, 2, 0, 2, 2, 2, 2, 0, 1, 0, 0, 2, 0, 2, 0, 3, 2, 3, 2, 1, 2,\n",
      "       2, 3, 2, 2, 2, 2, 2, 2, 3, 2, 2, 2, 2, 3, 3, 3, 2, 2, 1, 3, 3, 2,\n",
      "       0, 2, 3, 1, 2, 2, 1, 1, 2, 3, 3, 2, 2, 1, 2, 2, 1, 3, 2, 2, 2, 0,\n",
      "       3, 2, 0, 3, 3, 2, 0, 3, 3, 2, 2, 3, 1, 2, 2, 2, 2, 2, 2, 1, 3, 1,\n",
      "       3, 3, 2, 0, 1, 3, 2, 0, 3, 3, 3, 3, 0, 3, 1, 3, 3, 2, 3, 3, 2, 1,\n",
      "       1, 2, 1, 3, 0, 2, 3, 3, 2, 0, 2, 1, 3, 2, 1, 1, 3, 2, 2, 1, 3, 3,\n",
      "       2, 2, 2, 0, 3, 3, 2, 3, 2, 3, 2, 3, 0, 3, 1, 2, 1, 3, 3, 3, 3, 3,\n",
      "       3, 3, 3, 1, 0, 2, 3, 1, 2, 2, 2, 2, 1, 3, 2, 3, 3, 1, 3, 2, 2, 3,\n",
      "       0, 2, 3, 3, 3, 3, 3, 2, 2, 3, 2, 2, 3, 3, 3, 3, 2, 2, 3, 3, 3, 3,\n",
      "       3, 3, 3, 0, 3, 2, 3, 2, 1, 3, 0, 2, 3, 0, 3, 1, 3, 3, 3, 3, 2, 0,\n",
      "       3, 3, 3, 0, 2, 0, 3, 3, 3, 1, 2, 3, 2, 3, 2, 3, 3, 3, 3, 3, 3, 0,\n",
      "       3, 2, 3, 3, 3, 3, 2, 3, 3, 3, 2, 1, 2, 3, 0, 0, 3, 2, 3, 1, 3, 3,\n",
      "       2, 2, 1, 2, 3, 3, 3, 2, 2, 3, 3, 3, 3, 3, 3, 3, 1, 0, 3, 0, 0, 3,\n",
      "       2, 2, 3, 2, 2, 1, 3, 3, 1, 0, 1, 2, 3, 1, 2, 2, 3, 2, 0, 3, 3, 3,\n",
      "       2, 3, 3, 1, 3, 2, 3, 3, 3, 0, 3, 4, 3, 2, 3, 4, 3, 3, 3, 3, 3, 3,\n",
      "       3, 3, 3, 3, 4, 3, 3, 4, 2, 1, 3, 3, 3, 3, 3, 3, 3, 1, 3, 3, 1, 4,\n",
      "       2, 3, 3, 4, 3, 3, 4, 0, 4, 3, 1, 3, 2, 3, 3, 4, 1, 3, 1, 3, 0, 3,\n",
      "       3, 3, 3, 3, 2, 4, 2, 3, 3, 2, 3, 4, 3, 4, 3, 4, 3, 3, 4, 3, 0, 1,\n",
      "       3, 4, 4, 3, 3, 3, 4, 2, 4, 4]), array([[1, 0, 0, ..., 0, 0, 0],\n",
      "       [1, 0, 0, ..., 0, 0, 0],\n",
      "       [1, 0, 0, ..., 0, 0, 0],\n",
      "       ...,\n",
      "       [0, 0, 1, ..., 0, 0, 0],\n",
      "       [0, 0, 0, ..., 0, 0, 0],\n",
      "       [0, 0, 0, ..., 0, 0, 0]])]\n"
     ]
    }
   ],
   "source": [
    "sess = tf.Session()\n",
    "tf.global_variables_initializer().run(session=sess)\n",
    "tf.train.start_queue_runners(sess=sess)\n",
    "# train_image, train_label = sess.run([train_image, train_label])\n",
    "for i in range(1):\n",
    "#     print(train_image, train_label)\n",
    "#     val, label_p = sess.run([train_image, label])\n",
    "#     batch_xs, batch_ys = sess.run([train_images, train_labels_onehot])\n",
    "    print(sess.run([train_labels, train_labels_onehot]))\n",
    "    \n",
    "    \n",
    "#     print(val.shape, label_p)"
   ]
  },
  {
   "cell_type": "code",
   "execution_count": null,
   "metadata": {},
   "outputs": [
    {
     "name": "stdout",
     "output_type": "stream",
     "text": [
      "0\n"
     ]
    }
   ],
   "source": [
    "#每一個批次的大小\n",
    "batch_size = 10\n",
    "\n",
    "#計算一共有多少批次\n",
    "n_batch = 600*11 // batch_size \n",
    "\n",
    "\n",
    "sess = tf.Session()\n",
    "tf.global_variables_initializer().run(session=sess)\n",
    "tf.train.start_queue_runners(sess=sess)\n",
    "\n",
    "for epoch in range(4000):\n",
    "    print(epoch)\n",
    "    for batch in range(n_batch):\n",
    "\n",
    "        batch_xs, _, batch_ys = sess.run([train_images, train_labels, train_labels_onehot])\n",
    "#         print(_, batch_ys)\n",
    "        feed_dict = {x: batch_xs, y: batch_ys, keep_prob:1.0}\n",
    "        sess.run(train_step, feed_dict)\n",
    "          \n",
    "    batch_xs, _, batch_ys = sess.run([train_images, train_labels, train_labels_onehot])\n",
    "    feed_dict = {x:batch_xs, y:batch_ys, keep_prob:1.0}\n",
    "    test_acc = sess.run(accuracy, feed_dict)\n",
    "    test_xs, _, test_ys = sess.run([test_images, test_labels, test_labels_onehot])\n",
    "    feed_dict = {x: test_xs, y: test_ys, keep_prob:1.0}  \n",
    "    train_acc = sess.run(accuracy, feed_dict)\n",
    "    print(\"Iter:\"+str(epoch)+\",test_Acc:\"+str(test_acc)+\",train_Acc:\"+str(train_acc))"
   ]
  },
  {
   "cell_type": "code",
   "execution_count": null,
   "metadata": {
    "collapsed": true
   },
   "outputs": [],
   "source": []
  },
  {
   "cell_type": "code",
   "execution_count": null,
   "metadata": {
    "collapsed": true
   },
   "outputs": [],
   "source": []
  },
  {
   "cell_type": "code",
   "execution_count": null,
   "metadata": {
    "collapsed": true
   },
   "outputs": [],
   "source": []
  },
  {
   "cell_type": "code",
   "execution_count": null,
   "metadata": {
    "collapsed": true
   },
   "outputs": [],
   "source": []
  }
 ],
 "metadata": {
  "kernelspec": {
   "display_name": "Python 3",
   "language": "python",
   "name": "python3"
  },
  "language_info": {
   "codemirror_mode": {
    "name": "ipython",
    "version": 3
   },
   "file_extension": ".py",
   "mimetype": "text/x-python",
   "name": "python",
   "nbconvert_exporter": "python",
   "pygments_lexer": "ipython3",
   "version": "3.6.3"
  }
 },
 "nbformat": 4,
 "nbformat_minor": 2
}
